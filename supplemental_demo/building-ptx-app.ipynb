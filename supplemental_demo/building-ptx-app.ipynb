{
 "cells": [
  {
   "cell_type": "markdown",
   "metadata": {},
   "source": [
    "# Supplemental Exercise: \n",
    "# Constructing a SigPy App"
   ]
  },
  {
   "cell_type": "markdown",
   "metadata": {},
   "source": [
    "This code is directly modeled off of Frank Ong's demonstration of SigPy at ISMRM 2019. The repository for those demos can be found [here](https://github.com/mikgroup/sigpy-mri-tutorial). Here, we create an App not for reconstruction, but for pulse design.\n",
    "\n",
    "\n",
    "As a supplement to the provided exercises, let's explore some of SigPy's available abstractions. We'll look at making a very simple version of the small-tip spatial-domain pTx pulse designer in the highest level of SigPy abstraction: [the App](https://sigpy.readthedocs.io/en/latest/core_app.html). We'll do this without any of the fancy constrained optimization, off-resonance correction, regularization, or other features that are included in the stspa() small-tip designer used in Exercise 4; just the bare bones of an unconstrained pTx designer to illustrate the App building process (and how so many of our pulse design functions can take advantage of existing recon code!).\n",
    "\n",
    "This code demonstrates many of the key SigPy abstractions firsthand:\n",
    "\n",
    "* [the Linop](https://sigpy.readthedocs.io/en/latest/generated/sigpy.linop.Linop.html#sigpy.linop.Linop)\n",
    "* [the Alg](https://sigpy.readthedocs.io/en/latest/core_alg.html)\n",
    "* [the App](https://sigpy.readthedocs.io/en/latest/core_app.html)\n",
    "\n",
    "We start, as always, with the appropriate import statements:"
   ]
  },
  {
   "cell_type": "code",
   "execution_count": 18,
   "metadata": {},
   "outputs": [],
   "source": [
    "import sigpy as sp\n",
    "import sigpy.mri as mr\n",
    "import sigpy.mri.rf as rf\n",
    "import sigpy.plot as pl\n",
    "import numpy as np\n",
    "\n",
    "# to assist with importing data, we will also import scipy\n",
    "import scipy.io as sio"
   ]
  },
  {
   "cell_type": "markdown",
   "metadata": {},
   "source": [
    "And we will re-create the inputs that we were using for the spatial domain pTx design in exercise 4:"
   ]
  },
  {
   "cell_type": "code",
   "execution_count": 72,
   "metadata": {},
   "outputs": [],
   "source": [
    "dim = 32\n",
    "Nc = 8\n",
    "sens_shape = [Nc, dim, dim]\n",
    "img_shape = [dim, dim]\n",
    "\n",
    "# target magnetization\n",
    "mat_struct = sio.loadmat('data/smallv.mat')\n",
    "d = mat_struct['d']\n",
    "\n",
    "# simulated sensitivities\n",
    "sens = mr.birdcage_maps(sens_shape)\n",
    "\n",
    "# spiral trajectory\n",
    "fov = 0.55\n",
    "gts = 6.4e-6\n",
    "gslew = 150\n",
    "gamp = 30\n",
    "R = 1/2\n",
    "dx = 0.025\n",
    "g, k, t, s = rf.spiral_arch(fov/R,dx,gts,gslew,gamp)\n",
    "k = k[::-1]\n",
    "g = g[::-1]\n",
    "\n",
    "Nt = k.shape[0]"
   ]
  },
  {
   "cell_type": "markdown",
   "metadata": {},
   "source": [
    "## Linop\n",
    "Linear operators are abstracted in the class [Linop](https://sigpy.readthedocs.io/en/latest/generated/sigpy.linop.Linop.html#sigpy.linop.Linop). Given a Linop A, and an appropriately shaped input x, we can compute x -> A(x) by:\n",
    "\n",
    "```y = A(x)```\n",
    "\n",
    "Its adjoint linear operator can be obtained using the .H attribute. Linops can be scaled, added, subtracted, stacked and composed.\n",
    "\n",
    "The only linop necessary for a bare-bones small-tip spatial-domain designer is the adjoint of the SENSE linear operator.\n",
    "\n",
    "### S Linop\n",
    "\n",
    "To start, we will create a sensitivities Linop. Given some sensitivity maps, the S operator will multiply the input by the maps. We will use the Multiply Linop, which takes the input array shape and the array to be multiplied with as arguments.\n"
   ]
  },
  {
   "cell_type": "code",
   "execution_count": 73,
   "metadata": {},
   "outputs": [],
   "source": [
    "S = sp.linop.Multiply(d.shape, sens)"
   ]
  },
  {
   "cell_type": "markdown",
   "metadata": {},
   "source": [
    "### F Linop\n",
    "\n",
    "Next, we will create a NUFFT linop. It will take the input array shape and application axes as arguments."
   ]
  },
  {
   "cell_type": "code",
   "execution_count": 74,
   "metadata": {},
   "outputs": [],
   "source": [
    "F = sp.linop.NUFFT(S.oshape, k)\n"
   ]
  },
  {
   "cell_type": "markdown",
   "metadata": {},
   "source": [
    "### A Linop\n",
    "We will chain the Linops together and form an overall A Linop for convenience. This can be done by multiplying the Linops together, then taking the adjoint of the overall linop (since we are performing a pulse design, not a SENSE reconstruction)."
   ]
  },
  {
   "cell_type": "code",
   "execution_count": 75,
   "metadata": {},
   "outputs": [],
   "source": [
    "A = (F * S).H"
   ]
  },
  {
   "cell_type": "markdown",
   "metadata": {},
   "source": [
    "\n",
    "## Alg\n",
    "Alg abstracts iterative algorithms. The standard way of using an Alg, say alg, is as follows:\n",
    "\n",
    "```while not alg.done():\n",
    "    alg.update()``` \n",
    "\n",
    "The user is free to run other things in the while loop.\n",
    "\n",
    "For this tutorial, we will use the Conjugate Gradient Alg."
   ]
  },
  {
   "cell_type": "code",
   "execution_count": 77,
   "metadata": {
    "scrolled": false
   },
   "outputs": [
    {
     "name": "stdout",
     "output_type": "stream",
     "text": [
      "ConjugateGradient, Iteration=30"
     ]
    },
    {
     "data": {
      "text/plain": [
       "<Figure size 640x480 with 1 Axes>"
      ]
     },
     "metadata": {},
     "output_type": "display_data"
    },
    {
     "data": {
      "text/plain": [
       "<sigpy.plot.LinePlot at 0x7fce52f98c18>"
      ]
     },
     "execution_count": 77,
     "metadata": {},
     "output_type": "execute_result"
    }
   ],
   "source": [
    "max_iter = 30\n",
    "alpha = 1\n",
    "tol = 1e-6\n",
    "pulses = np.zeros((Nc, Nt), np.complex)\n",
    "alg = sp.alg.ConjugateGradient(A.H*A, A.H*d, pulses,\n",
    "                                                max_iter=max_iter, tol=tol)\n",
    "while not alg.done():\n",
    "    alg.update()\n",
    "    print('\\rConjugateGradient, Iteration={}'.format(alg.iter), end='')\n"
   ]
  },
  {
   "cell_type": "code",
   "execution_count": 78,
   "metadata": {},
   "outputs": [
    {
     "data": {
      "image/png": "[encoded data removed]",
      "text/plain": [
       "<Figure size 432x288 with 1 Axes>"
      ]
     },
     "metadata": {
      "needs_background": "light"
     },
     "output_type": "display_data"
    },
    {
     "data": {
      "text/plain": [
       "<sigpy.plot.LinePlot at 0x7fce52f9e240>"
      ]
     },
     "execution_count": 78,
     "metadata": {},
     "output_type": "execute_result"
    }
   ],
   "source": [
    "pl.LinePlot(pulses)"
   ]
  },
  {
   "cell_type": "markdown",
   "metadata": {},
   "source": [
    "\n",
    "## App\n",
    "Now that we know how to define the right Linop, Prox, and Alg, we can wrap all of them into an App.\n",
    "\n",
    "An App provides a simple interface to use applications. The standard way to run an App, say app, is as follows:\n",
    "\n",
    "```app.run()```\n",
    "\n",
    "Each App must have a core Alg object. The run() function runs the Alg, with additional convenient features, such as a progress bar, which can be toggled with the show_pbar option.\n",
    "\n",
    "We will copy the construction codes from above and form a SpatialPtxPulses App.\n",
    "\n"
   ]
  },
  {
   "cell_type": "code",
   "execution_count": 82,
   "metadata": {},
   "outputs": [],
   "source": [
    "class SpatialPtxPulses(sp.app.App):\n",
    "    def __init__(self, target, sens, coord, pulse_in,\n",
    "                 max_iter=300, tol=1E-6, show_pbar=True):\n",
    "                \n",
    "        self.target = target\n",
    "        self.sens = sens\n",
    "        self.coord = coord\n",
    "        self.pulses = pulse_in\n",
    "        self.max_iter = max_iter\n",
    "        self.tol = tol\n",
    "        self.show_pbar = show_pbar\n",
    "        \n",
    "        device = sp.get_device(target)\n",
    "        self.device = sp.Device(device)\n",
    "                \n",
    "        # Our system matrix for this problem is SENSE's A.H.\n",
    "        # Sigpy provides this matrix as a Linop already:\n",
    "        A = mr.linop.Sense(self.sens, self.coord, ishape=self.target.shape).H\n",
    "        \n",
    "        # solving A.H * A * pulses = A.H * m\n",
    "        with self.device:\n",
    "            self.alg = sp.alg.ConjugateGradient(A.H*A, A.H*self.target, self.pulses,\n",
    "                                                max_iter=max_iter, tol=tol)\n",
    "\n",
    "        super().__init__(self.alg, show_pbar=show_pbar)\n",
    "\n",
    "    def _summarize(self):\n",
    "        if self.show_pbar:\n",
    "            self.pbar.set_postfix(resid='{0:.2E}'.format(self.alg.resid))\n",
    "\n",
    "    def _output(self):\n",
    "        return self.pulses"
   ]
  },
  {
   "cell_type": "code",
   "execution_count": 88,
   "metadata": {},
   "outputs": [
    {
     "data": {
      "application/vnd.jupyter.widget-view+json": {
       "model_id": "5103c8c039844c299695733d2c0b3291",
       "version_major": 2,
       "version_minor": 0
      },
      "text/plain": [
       "HBox(children=(IntProgress(value=0, description='SpatialPtxPulses', max=30, style=ProgressStyle(description_wi…"
      ]
     },
     "metadata": {},
     "output_type": "display_data"
    },
    {
     "name": "stdout",
     "output_type": "stream",
     "text": [
      "\n"
     ]
    }
   ],
   "source": [
    "pulses = np.zeros((Nc, Nt), dtype=np.complex)\n",
    "pulses = SpatialPtxPulses(d, sens, k, pulses, max_iter=30, tol=1e-6).run()"
   ]
  },
  {
   "cell_type": "code",
   "execution_count": 89,
   "metadata": {},
   "outputs": [
    {
     "data": {
      "image/png": "[encoded data removed]",
      "text/plain": [
       "<Figure size 432x288 with 1 Axes>"
      ]
     },
     "metadata": {
      "needs_background": "light"
     },
     "output_type": "display_data"
    },
    {
     "data": {
      "image/png": "[encoded data removed]",
      "text/plain": [
       "<Figure size 432x288 with 1 Axes>"
      ]
     },
     "metadata": {
      "needs_background": "light"
     },
     "output_type": "display_data"
    },
    {
     "data": {
      "text/plain": [
       "<sigpy.plot.ImagePlot at 0x7fce51009ac8>"
      ]
     },
     "execution_count": 89,
     "metadata": {},
     "output_type": "execute_result"
    }
   ],
   "source": [
    "pl.LinePlot(pulses)\n",
    "pl.ImagePlot(A * pulses)"
   ]
  }
 ],
 "metadata": {
  "kernelspec": {
   "display_name": "Python 3",
   "language": "python",
   "name": "python3"
  },
  "language_info": {
   "codemirror_mode": {
    "name": "ipython",
    "version": 3
   },
   "file_extension": ".py",
   "mimetype": "text/x-python",
   "name": "python",
   "nbconvert_exporter": "python",
   "pygments_lexer": "ipython3",
   "version": "3.7.3"
  }
 },
 "nbformat": 4,
 "nbformat_minor": 2
}
