{
 "cells": [
  {
   "cell_type": "markdown",
   "metadata": {},
   "source": [
    "# Exercise 1: SLR Pulse Design\n"
   ]
  },
  {
   "cell_type": "markdown",
   "metadata": {},
   "source": [
    "Welcome! This first exercise will cover the design of SLR pulses for MRI using Python. \n",
    "\n",
    "Documentation for all pulse design tools can be found [here](https://sigpy.readthedocs.io/en/latest/mri_rf.html).\n",
    "\n",
    "Prior to beginning this exercise (and at the beginning of all additional exercise notebooks) we will need to import the packages we will use:\n"
   ]
  },
  {
   "cell_type": "code",
   "execution_count": null,
   "metadata": {},
   "outputs": [],
   "source": [
    "# typical sigpy and numpy imports\n",
    "import numpy as np\n",
    "import sigpy as sp\n",
    "import sigpy.mri.rf as rf # import for our RF pulse design tools \n",
    "import sigpy.plot as pl\n",
    "\n",
    "import matplotlib.pyplot as pyplot\n",
    "pyplot.rcParams.update({'figure.max_open_warning': 0})  # We'll be showing many figures"
   ]
  },
  {
   "cell_type": "markdown",
   "metadata": {},
   "source": [
    "## Problem 1a: design an inversion pulse"
   ]
  },
  {
   "cell_type": "markdown",
   "metadata": {},
   "source": [
    "Large-tip inversion pulses cannot be effectively designed by the small-tip-angle approximation alone, and should instead be designed by iterative methods or the SLR method, which we will use here.\n",
    "\n",
    "In SigPy, basic SLR pulses are designed using the *sigpy.mri.rf.slr.dzrf* function, modeled after John Pauly's SLR design tools. Documentation for dzrf() is [here](https://sigpy.readthedocs.io/en/latest/generated/sigpy.mri.rf.slr.dzrf.html#sigpy.mri.rf.slr.dzrf).\n",
    "\n",
    "For this example, we want to design an inversion pulse that will provide spatial saturation with a high degree of signal dephasing.\n",
    "\n",
    "* Using dzrf(), design an inversion pulse lasting 0.5 ms.\n",
    "* Assume your hardware dwell time is 4e-6s. \n",
    "* To start, give your pulse 8 zero crossings. \n",
    "* Use a filter type that concentrates the pulse energy at the front of the pulse. This will result in signal dephasing."
   ]
  },
  {
   "cell_type": "code",
   "execution_count": null,
   "metadata": {},
   "outputs": [],
   "source": [
    "N = 128\n",
    "tb = 8\n",
    "d1 = 0.01\n",
    "d2 = 0.01\n",
    "ptype = 'inv'\n",
    "ftype = 'max'"
   ]
  },
  {
   "cell_type": "code",
   "execution_count": null,
   "metadata": {},
   "outputs": [],
   "source": [
    "pulse = rf.slr.dzrf(N, tb, ptype, ftype, d1, d2)\n",
    "pl.LinePlot(pulse, mode='r', title = 'Real Component')"
   ]
  },
  {
   "cell_type": "markdown",
   "metadata": {},
   "source": [
    "## Problem 1b: simulate the inversion pulse's profile"
   ]
  },
  {
   "cell_type": "markdown",
   "metadata": {},
   "source": [
    "* Simulate the Mz profile created by this pulse.\n",
    "* This is done in 2 steps: first, find get the a and b coefficients that correspond to the RF pulse. Second, \n",
    "\n",
    "*Hint:* the inversion profile is related to the "
   ]
  },
  {
   "cell_type": "code",
   "execution_count": null,
   "metadata": {},
   "outputs": [],
   "source": [
    "[a, b] = rf.sim.abrm(pulse, np.arange(-2*tb, 2*tb, 0.01), True)\n",
    "Mz = 1-2*np.abs(b)**2\n"
   ]
  },
  {
   "cell_type": "code",
   "execution_count": null,
   "metadata": {},
   "outputs": [],
   "source": [
    "pl.LinePlot(Mz, mode='r')"
   ]
  },
  {
   "cell_type": "markdown",
   "metadata": {},
   "source": [
    "# Problem 1c: alter the time-bandwidth product"
   ]
  },
  {
   "cell_type": "markdown",
   "metadata": {},
   "source": [
    "* Now, go back and rerun the code above, but change the time-bandwidth product to 2. Note the change in the inversion profile!"
   ]
  },
  {
   "cell_type": "markdown",
   "metadata": {},
   "source": [
    "# Problem 1d: root-flip the inversion pulse"
   ]
  },
  {
   "cell_type": "markdown",
   "metadata": {},
   "source": [
    "For the final problem of exercise 1, we will explore the rf.mri.slr.dzrf() source code, and design a root-flipped SLR inversion pulse using what we find there, which we can compare to the standard SLR inversion pulse designed in 1a.\n",
    "\n",
    "Root flipping can be performed using the rf.slr.root_flip() function. This function is used in the following fashion:\n",
    "\n",
    "[pulse, bRootFlipped] = rf.slr.root_flip(b, d1, flip, tb)\n",
    "\n",
    "To design the root flipped pulse, we will need b (the SLR beta parameter), d1 (the passband ripple level), flip (the flip angle of our pulse in radians) and tb (our time bandwidth product). All of these are knowns, aside from b.\n",
    "\n",
    "**Your assignment is to design b by extracting 4 lines of code from the [rf.mri.slr.dzrf() source code](https://sigpy.readthedocs.io/en/latest/_modules/sigpy/mri/rf/slr.html#dzrf).**\n",
    "\n",
    "*Hint #1: you will want 1 line of code that calculates ripples from d1 and d2, 2 lines of code that design a minphase b.*\n",
    "\n",
    "*Hint #2: you will want to end with a 4th line of code that multiplies bsf by b.*\n"
   ]
  },
  {
   "cell_type": "code",
   "execution_count": null,
   "metadata": {},
   "outputs": [],
   "source": [
    "flip = np.pi # 180 degree inversion\n",
    "d1 = 0.01\n",
    "d2 = 0.001\n",
    "tb = 8"
   ]
  },
  {
   "cell_type": "code",
   "execution_count": null,
   "metadata": {},
   "outputs": [],
   "source": [
    "# root-flipped pulse\n",
    "\n",
    "[bsf, d1, d2] = rf.slr.calc_ripples(ptype, d1, d2)\n",
    "b = rf.slr.dzmp(N, tb, d1, d2)\n",
    "b = b[::-1]\n",
    "b = bsf*b\n",
    "\n",
    "[pulse, bRootFlipped] = rf.slr.root_flip(b, d1, flip, tb)\n",
    "pl.LinePlot(pulse)"
   ]
  },
  {
   "cell_type": "code",
   "execution_count": null,
   "metadata": {},
   "outputs": [],
   "source": [
    "[a, b] = rf.sim.abrm(pulse, np.arange(-2*tb, 2*tb, 0.01), True)\n",
    "Mz = 1-2*np.abs(b)**2"
   ]
  },
  {
   "cell_type": "code",
   "execution_count": null,
   "metadata": {},
   "outputs": [],
   "source": [
    "pl.LinePlot(Mz, mode='r')"
   ]
  }
 ],
 "metadata": {
  "kernelspec": {
   "display_name": "Python 3",
   "language": "python",
   "name": "python3"
  },
  "language_info": {
   "codemirror_mode": {
    "name": "ipython",
    "version": 3
   },
   "file_extension": ".py",
   "mimetype": "text/x-python",
   "name": "python",
   "nbconvert_exporter": "python",
   "pygments_lexer": "ipython3",
   "version": "3.7.3"
  }
 },
 "nbformat": 4,
 "nbformat_minor": 2
}
