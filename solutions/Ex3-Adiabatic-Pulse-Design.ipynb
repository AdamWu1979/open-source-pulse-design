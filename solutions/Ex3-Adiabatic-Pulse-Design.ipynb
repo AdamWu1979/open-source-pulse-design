{
 "cells": [
  {
   "cell_type": "markdown",
   "metadata": {},
   "source": [
    "# Exercise 3: Adiabatic Pulse Design\n"
   ]
  },
  {
   "cell_type": "markdown",
   "metadata": {},
   "source": [
    "For our third exercise, let's move on to  adiabatic pulse design. Adiabatic pulses are a special class of RF pulses that can excite, refocus, or invert magnetization vectors uniformly, even in the presence of a spatially nonuniform $B_1$ field. This makes them a good choice for tricky imaging problems; they can overcome issues such as inhomogeneity resulting from the use of a surface coil. A critical difference between these pulses and the pulses we have previously designed is that adiabatic pulses do *not* follow the typical proportionality relationship between flip angle and $B_1$ amplitude. Instead, the flip angle depends on modulation of both the amplitude and frequency of the pulse.\n",
    "\n",
    "Again, before diving into the exercise, we begin with our import statements."
   ]
  },
  {
   "cell_type": "code",
   "execution_count": null,
   "metadata": {},
   "outputs": [],
   "source": [
    "%matplotlib notebook\n",
    "\n",
    "# typical sigpy and numpy imports\n",
    "import numpy as np\n",
    "import sigpy.mri.rf as rf # import for our RF pulse design tools \n",
    "import sigpy.plot as pl\n",
    "\n",
    "import matplotlib.pyplot as pyplot"
   ]
  },
  {
   "cell_type": "markdown",
   "metadata": {},
   "source": [
    "## Problem 3a: BIR-4 adiabatic excitation\n",
    "\n",
    "We will first perform a BIR-4 ($B_1$-Independent Rotation) adiabatic excitation pulse design. This is the most commonly used type of BIR pulse, as it induces a plane rotation more accurately than other BIR pulses and typically requires less power. A BIR-4 pulse consists of four piecewise-defined segments of AM and FM modulation.\n",
    "\n",
    "SigPy has one function that will create all 4 of these segments: [*rf.adiabatic.bir4()*](https://sigpy.readthedocs.io/en/latest/generated/sigpy.mri.rf.adiabatic.bir4.html#sigpy.mri.rf.adiabatic.bir4).\n",
    "\n",
    "* Design a pulse that:\n",
    "    * Has a flip angle of $\\pi$/2\n",
    "    * Has a duration of 4.7 ms (given a hardware dwell time of 4e-6 s)\n",
    "    * Provides roughly uniform excitation between 0.1 and 1 Gauss\n",
    "\n",
    "\n",
    "* You will need to:\n",
    "    * Select beta (AM) and kappa (FM) adiabatic parameters, to determine how closely the adiabatic condition is met\n",
    "    * Apply the rf.adiabatic.bir4() function.\n",
    "* A tolerence factor used to allow for off-resonance, dw0, is already provided."
   ]
  },
  {
   "cell_type": "code",
   "execution_count": null,
   "metadata": {},
   "outputs": [],
   "source": [
    "# Design it:\n",
    "\n",
    "# our adiabatic parameters:\n",
    "n = 1176\n",
    "dt = 4e-6  # hardware dwell time\n",
    "dw0 = 100*np.pi/dt/n  # tolerance factor, to allow for off-resonace\n",
    "beta = 10  # dimensionless AM constant,determines how well adiabatic condition is met\n",
    "kappa = np.arctan(20)  # dimensionless FM constant, determines how well adiabtic condition is met\n",
    "flip = np.pi/2  # flip angle in radians\n",
    "\n",
    "# Perform our BIR-4 pulse design\n",
    "[am_bir, om_bir] = rf.adiabatic.bir4(n, beta, kappa, flip, dw0)  "
   ]
  },
  {
   "cell_type": "code",
   "execution_count": null,
   "metadata": {},
   "outputs": [],
   "source": [
    "# Plot it: AM and FM modulation waveforms\n",
    "T = n*dt\n",
    "t = np.arange(-T/2,T/2,dt)*1000\n",
    "pyplot.figure()\n",
    "pyplot.plot(t, np.abs(am_bir))\n",
    "pyplot.xlabel('ms')\n",
    "pyplot.ylabel('a.u.')\n",
    "pyplot.title('|AM|')\n",
    "pyplot.figure()\n",
    "pyplot.plot(t, om_bir/(2*np.pi*1000))\n",
    "pyplot.xlabel('ms')\n",
    "pyplot.ylabel('kHz')\n",
    "pyplot.title('FM')"
   ]
  },
  {
   "cell_type": "code",
   "execution_count": null,
   "metadata": {},
   "outputs": [],
   "source": [
    "# Simulate it across B1 amplitudes\n",
    "b1 = np.arange(0, 1, 0.01) # b1 grid we simulate the pulse over, Gauss\n",
    "b1 = np.reshape(b1, (np.size(b1),1))\n",
    "a = np.zeros(np.shape(b1), dtype = 'complex')\n",
    "b = np.zeros(np.shape(b1), dtype = 'complex')\n",
    "for ii in range(0, np.size(b1)):\n",
    "    [a[ii], b[ii]] = rf.sim.abrm_nd(2*np.pi*dt*4258*b1[ii]*am_bir, np.ones(1), dt*np.reshape(om_bir,(np.size(om_bir),1)))\n",
    "Mxy = 2*np.multiply(np.conj(a), b)\n",
    "pyplot.figure()\n",
    "pyplot.plot(b1, np.abs(Mxy))\n",
    "pyplot.xlabel('Gauss')\n",
    "pyplot.ylabel('|Mxy|')"
   ]
  },
  {
   "cell_type": "markdown",
   "metadata": {},
   "source": [
    "You should see that, as expected, once the adiabatic threshold is met the magnetization is excited regardless of B1 amplitude!"
   ]
  },
  {
   "cell_type": "markdown",
   "metadata": {},
   "source": [
    "## Problem 3b: Hyperbolic Secant Inversion Pulse\n",
    "\n",
    "Next, let's perform adiabatic inversion by designing a hyperbolic secant pulse. The documentation for designing this type of adiabatic pulse can be found [here](https://sigpy.readthedocs.io/en/latest/generated/sigpy.mri.rf.adiabatic.hypsec.html#sigpy.mri.rf.adiabatic.hypsec).\n",
    "\n",
    "* Design a pulse that:\n",
    "    * Has a flip angle of $\\pi$\n",
    "    * Has a duration of 4 ms (given a hardware dwell time of 4e-6 s).\n",
    "    * Provides roughly uniform inversion between 0.1 and 1 Gauss\n",
    "\n",
    "\n",
    "* You will need to:\n",
    "    * Select beta (AM) and mu (FM) adiabatic parameters, to determine how closely the adiabatic condition is met.\n",
    "        * Values of beta on the order of magnitude from 100's to 1000's are typical.\n",
    "        * Values of mu on the order of 10's to 100's are typical.\n",
    "    * Apply the [*rf.adiabatic.hypsec()*](https://sigpy.readthedocs.io/en/latest/generated/sigpy.mri.rf.adiabatic.hypsec.html#sigpy.mri.rf.adiabatic.bir4) function to design the pulse. \n",
    "    * Use [*rf.sim.abrm_nd()*]() within a loop to simulate the pulse across a range of B1 amplitudes."
   ]
  },
  {
   "cell_type": "code",
   "execution_count": null,
   "metadata": {},
   "outputs": [],
   "source": [
    "# Design it using hypsec()\n",
    "n = 2002\n",
    "beta = 500\n",
    "mu = 60\n",
    "T = 0.012\n",
    "[am_sech, om_sech] = rf.adiabatic.hypsec(n, beta, mu, T)"
   ]
  },
  {
   "cell_type": "code",
   "execution_count": null,
   "metadata": {},
   "outputs": [],
   "source": [
    "# Plot it\n",
    "t = np.arange(-T/2,T/2,T/n)*1000\n",
    "pyplot.figure()\n",
    "pyplot.plot(t, np.abs(am_sech))\n",
    "pyplot.xlabel('ms')\n",
    "pyplot.ylabel('a.u.')\n",
    "pyplot.title('|AM|')\n",
    "pyplot.figure()\n",
    "pyplot.plot(t, om_sech/(2*np.pi))\n",
    "pyplot.xlabel('ms')\n",
    "pyplot.ylabel('Hz')\n",
    "pyplot.title('FM')"
   ]
  },
  {
   "cell_type": "code",
   "execution_count": null,
   "metadata": {},
   "outputs": [],
   "source": [
    "# Simulate it\n",
    "a = np.zeros(np.shape(b1), dtype = 'complex')\n",
    "b = np.zeros(np.shape(b1), dtype = 'complex')\n",
    "for ii in range(0, np.size(b1)):\n",
    "    [a[ii], b[ii]] = rf.sim.abrm_nd(2*np.pi*(T/n)*4258*b1[ii]*am_sech, np.ones(1), T/n*np.reshape(om_sech,(np.size(om_sech),1)))\n",
    "Mz = 1-2*np.abs(b)**2\n",
    "pyplot.figure()\n",
    "pyplot.plot(b1, Mz)\n",
    "pyplot.xlabel('Gauss')\n",
    "pyplot.ylabel('Mz')"
   ]
  },
  {
   "cell_type": "markdown",
   "metadata": {},
   "source": [
    "This time you should see that once the adiabatic threshold is met the magnetization is inverted to -1 regardless of B1 amplitude!"
   ]
  }
 ],
 "metadata": {
  "kernelspec": {
   "display_name": "Python 3",
   "language": "python",
   "name": "python3"
  },
  "language_info": {
   "codemirror_mode": {
    "name": "ipython",
    "version": 3
   },
   "file_extension": ".py",
   "mimetype": "text/x-python",
   "name": "python",
   "nbconvert_exporter": "python",
   "pygments_lexer": "ipython3",
   "version": "3.7.3"
  }
 },
 "nbformat": 4,
 "nbformat_minor": 2
}
