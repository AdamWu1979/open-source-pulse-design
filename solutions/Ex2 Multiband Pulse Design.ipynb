{
 "cells": [
  {
   "cell_type": "markdown",
   "metadata": {},
   "source": [
    "# Exercise 2: Multiband Pulse Design\n"
   ]
  },
  {
   "cell_type": "markdown",
   "metadata": {},
   "source": [
    "Building further off of the SLR designs of exercise 1, we will now design multibanded RF pulses to excite several slices simultaneously.\n",
    "\n",
    "Documentation for all pulse design tools can be found [here](https://sigpy.readthedocs.io/en/latest/mri_rf.html).\n",
    "\n",
    "We again begin by importing our packages:"
   ]
  },
  {
   "cell_type": "code",
   "execution_count": null,
   "metadata": {},
   "outputs": [],
   "source": [
    "# typical sigpy and numpy imports\n",
    "import numpy as np\n",
    "import sigpy as sp\n",
    "import sigpy.mri.rf as rf # import for our RF pulse design tools \n",
    "import sigpy.plot as pl\n",
    "\n",
    "import matplotlib.pyplot as pyplot\n",
    "pyplot.rcParams.update({'figure.max_open_warning': 0})  # We'll be showing many figures"
   ]
  },
  {
   "cell_type": "markdown",
   "metadata": {},
   "source": [
    "## Problem 2a: design an SLR excitation pulse"
   ]
  },
  {
   "cell_type": "markdown",
   "metadata": {},
   "source": [
    "This problem is a review of the previous exercise! Design an SLR excitation pulse using the dzrf() function, and verify it produces transverse magentization. \n",
    "\n",
    "* Using dzrf(), design a linear-phase excitation pulse lasting 2 ms.\n",
    "* Assume your hardware dwell time is 4e-6s. \n",
    "* Again, use a time-bandwidth product of 8.\n",
    "* Use relative maximum ripple levels in both passband and stopband of 0.01\n",
    "\n",
    "Once you have designed and plotted the pulse, simulate it using rf.sim.abrm(), as in the previous exercise. This time, look at the Mxy profile instead of Mz."
   ]
  },
  {
   "cell_type": "code",
   "execution_count": null,
   "metadata": {},
   "outputs": [],
   "source": [
    "tb = 8\n",
    "N = 512\n",
    "d1 = 0.01\n",
    "d2 = 0.01\n",
    "p_type = 'ex'\n",
    "f_type = 'ls'"
   ]
  },
  {
   "cell_type": "code",
   "execution_count": null,
   "metadata": {},
   "outputs": [],
   "source": [
    "pulse = rf.slr.dzrf(N, tb, p_type, f_type, d1, d2)\n",
    "pl.LinePlot(pulse, mode='r')"
   ]
  },
  {
   "cell_type": "code",
   "execution_count": null,
   "metadata": {},
   "outputs": [],
   "source": [
    "[a, b] = rf.sim.abrm(pulse, np.arange(-2*tb, 2*tb, 0.01), True)\n",
    "Mxy = 2*np.multiply(np.conj(a), b)\n",
    "pl.LinePlot(Mxy)"
   ]
  },
  {
   "cell_type": "markdown",
   "metadata": {},
   "source": [
    "## Problem 2b: Multiband the excitation pulse\n",
    "\n",
    "Now that we have a simple SLR excitation pulse designed, we can perform multibanding in order to have the pulse excite several slices simultaneously.\n",
    "\n",
    "* Use the *rf.multiband.mb_rf()* function to create a pulse that excites 5 slices.\n",
    "* Separate the pulses by 3 slice widths\n",
    "* Experiment with designing the pulse with all 3 of the provided phase schedules. For this example, the differences should be minimal."
   ]
  },
  {
   "cell_type": "code",
   "execution_count": null,
   "metadata": {},
   "outputs": [],
   "source": [
    "n_bands = 5\n",
    "phs_type = 'quad_mod' # phsMod, ampMod, or quadMod\n",
    "band_sep = 3*tb # separate by 3 slice widths\n",
    "mb_pulse = rf.multiband.mb_rf(pulse, n_bands, band_sep, phs_type)\n",
    "pl.LinePlot(mb_pulse, mode='r')"
   ]
  },
  {
   "cell_type": "code",
   "execution_count": null,
   "metadata": {},
   "outputs": [],
   "source": [
    "[a, b] = rf.sim.abrm(mb_pulse, np.arange(-20*tb, 20*tb, 40*tb/2000), True)\n",
    "Mxy = 2*np.multiply(np.conj(a), b)\n",
    "pl.LinePlot(Mxy)"
   ]
  },
  {
   "cell_type": "markdown",
   "metadata": {},
   "source": [
    "## Problem 2c: PINS Pulse Design\n",
    "\n",
    "Now, let's try to directly design a multiband pulse using the PINS (Power Independent Number of Slices) method. PINS interleaves a train of nonselective rectangular RF pulses that sample a slice-selective envelope with small slice gradient blips (in the Fourier domain, equivalent to convolving a single-slice profile with a train of delta functions). Unlike the previous examples, we will design this pulse with specific units in mind: \n",
    "\n",
    "* Given:\n",
    "    * A maximum gradient amplitude of 4 gauss/cm\n",
    "    * A maximum gradient slew rate of 18000 gauss/cm/s\n",
    "    * A hardware dwell time of 4e-6 seconds\n",
    "    * A maximum b1 amplitude of 0.18 gauss.\n",
    "\n",
    "\n",
    "* Design both rf waveforms and gradients necessary to excite a series of slices that are:\n",
    "    * Separated by 3 cm\n",
    "    * With a slice thickness of 0.3 cm\n",
    "\n",
    "* Simulate the transverse magnetization profile using the rf.sim.abrm() simulator. \n",
    "\n",
    "Skeleton code for plotting with the appropriate units is made available below."
   ]
  },
  {
   "cell_type": "code",
   "execution_count": null,
   "metadata": {},
   "outputs": [],
   "source": [
    "sl_sep = 3 # cm\n",
    "sl_thick = 0.3 # cm\n",
    "g_max = 4 # gauss/cm\n",
    "g_slew = 18000 # gauss/cm/s\n",
    "dt = 4e-6 # seconds, dwell time\n",
    "b1_max = 0.18 # gauss\n",
    "[rf_pins, g_pins] = rf.multiband.dz_pins(tb, sl_sep, sl_thick, g_max, g_slew, dt, b1_max, p_type, f_type, d1, d2)"
   ]
  },
  {
   "cell_type": "code",
   "execution_count": null,
   "metadata": {},
   "outputs": [],
   "source": [
    "t = np.arange(0, np.size(rf_pins)) * dt\n",
    "pyplot.figure()\n",
    "pyplot.plot(t * 1000, np.real(rf_pins))\n",
    "pyplot.ylabel('Gauss')\n",
    "pyplot.xlabel('milliseconds')"
   ]
  },
  {
   "cell_type": "code",
   "execution_count": null,
   "metadata": {},
   "outputs": [],
   "source": [
    "pyplot.figure()\n",
    "pyplot.plot(t * 1000, g_pins)\n",
    "pyplot.title('PINS Gradient')\n",
    "pyplot.ylabel('Gauss/cm')\n",
    "pyplot.xlabel('milliseconds')"
   ]
  },
  {
   "cell_type": "code",
   "execution_count": null,
   "metadata": {},
   "outputs": [],
   "source": [
    "# simulate it with Bloch simulator\n",
    "x = np.reshape(np.arange(-1000, 1000), (2000, 1)) / 1000 * 12 # cm\n",
    "[a, b] = rf.sim.abrm_nd(2 * np.pi * dt * 4258 * rf_pins, x, \n",
    "                        np.reshape(g_pins, (np.size(g_pins), 1)) * 4258 * dt * 2 * np.pi)\n",
    "Mxy = 2 * np.conj(a) * b"
   ]
  },
  {
   "cell_type": "code",
   "execution_count": null,
   "metadata": {},
   "outputs": [],
   "source": [
    "pyplot.figure()\n",
    "pyplot.plot(x, np.abs(Mxy))\n",
    "pyplot.ylabel('|Mxy|')\n",
    "pyplot.xlabel('cm')"
   ]
  }
 ],
 "metadata": {
  "kernelspec": {
   "display_name": "Python 3",
   "language": "python",
   "name": "python3"
  },
  "language_info": {
   "codemirror_mode": {
    "name": "ipython",
    "version": 3
   },
   "file_extension": ".py",
   "mimetype": "text/x-python",
   "name": "python",
   "nbconvert_exporter": "python",
   "pygments_lexer": "ipython3",
   "version": "3.7.3"
  }
 },
 "nbformat": 4,
 "nbformat_minor": 2
}
